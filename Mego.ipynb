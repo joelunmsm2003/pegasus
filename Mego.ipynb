{
 "cells": [
  {
   "cell_type": "code",
   "execution_count": 106,
   "metadata": {},
   "outputs": [],
   "source": [
    "import pandas as pd\n",
    "import seaborn as sns"
   ]
  },
  {
   "cell_type": "code",
   "execution_count": 107,
   "metadata": {},
   "outputs": [],
   "source": [
    "df = pd.read_csv('Reporte.csv')"
   ]
  },
  {
   "cell_type": "code",
   "execution_count": 108,
   "metadata": {},
   "outputs": [
    {
     "data": {
      "text/plain": [
       "Index(['Fecha', 'ID Interprete', 'Agente', 'Status', 'Start', 'Finish', 'Time',\n",
       "       'Client', 'Reason', 'Time Inter', 'Ti'],\n",
       "      dtype='object')"
      ]
     },
     "execution_count": 108,
     "metadata": {},
     "output_type": "execute_result"
    }
   ],
   "source": [
    "df.columns"
   ]
  },
  {
   "cell_type": "code",
   "execution_count": 109,
   "metadata": {},
   "outputs": [
    {
     "data": {
      "text/html": [
       "<div>\n",
       "<style scoped>\n",
       "    .dataframe tbody tr th:only-of-type {\n",
       "        vertical-align: middle;\n",
       "    }\n",
       "\n",
       "    .dataframe tbody tr th {\n",
       "        vertical-align: top;\n",
       "    }\n",
       "\n",
       "    .dataframe thead th {\n",
       "        text-align: right;\n",
       "    }\n",
       "</style>\n",
       "<table border=\"1\" class=\"dataframe\">\n",
       "  <thead>\n",
       "    <tr style=\"text-align: right;\">\n",
       "      <th></th>\n",
       "      <th>Fecha</th>\n",
       "      <th>ID Interprete</th>\n",
       "      <th>Agente</th>\n",
       "      <th>Status</th>\n",
       "      <th>Start</th>\n",
       "      <th>Finish</th>\n",
       "      <th>Time</th>\n",
       "      <th>Client</th>\n",
       "      <th>Reason</th>\n",
       "      <th>Time Inter</th>\n",
       "      <th>Ti</th>\n",
       "    </tr>\n",
       "  </thead>\n",
       "  <tbody>\n",
       "    <tr>\n",
       "      <th>0</th>\n",
       "      <td>2018-09-20 16:00:06</td>\n",
       "      <td>18152</td>\n",
       "      <td>Renzo osorio</td>\n",
       "      <td>Available</td>\n",
       "      <td>07:57:00</td>\n",
       "      <td>08:46:00</td>\n",
       "      <td>0:49:00</td>\n",
       "      <td>MedPod</td>\n",
       "      <td>regular checkup</td>\n",
       "      <td>_</td>\n",
       "      <td>0:00:00.816666</td>\n",
       "    </tr>\n",
       "    <tr>\n",
       "      <th>1</th>\n",
       "      <td>2018-09-20 16:30:06</td>\n",
       "      <td>18152</td>\n",
       "      <td>Renzo osorio</td>\n",
       "      <td>On Call</td>\n",
       "      <td>08:46:00</td>\n",
       "      <td>09:00:00</td>\n",
       "      <td>0:14:00</td>\n",
       "      <td>MedPod</td>\n",
       "      <td>regular checkup</td>\n",
       "      <td>_</td>\n",
       "      <td>0:00:00.233333</td>\n",
       "    </tr>\n",
       "    <tr>\n",
       "      <th>2</th>\n",
       "      <td>2018-09-20 16:30:06</td>\n",
       "      <td>18152</td>\n",
       "      <td>Renzo osorio</td>\n",
       "      <td>On Call</td>\n",
       "      <td>09:36:00</td>\n",
       "      <td>10:07:00</td>\n",
       "      <td>0:31:00</td>\n",
       "      <td>Texana Center</td>\n",
       "      <td>regular checkup</td>\n",
       "      <td>_</td>\n",
       "      <td>0:00:00.516666</td>\n",
       "    </tr>\n",
       "    <tr>\n",
       "      <th>3</th>\n",
       "      <td>2018-09-20 16:30:06</td>\n",
       "      <td>18152</td>\n",
       "      <td>Renzo osorio</td>\n",
       "      <td>On Call</td>\n",
       "      <td>10:07:00</td>\n",
       "      <td>10:21:00</td>\n",
       "      <td>0:14:00</td>\n",
       "      <td>Baylor Scott &amp; White</td>\n",
       "      <td>_</td>\n",
       "      <td>_</td>\n",
       "      <td>0:00:00.233333</td>\n",
       "    </tr>\n",
       "    <tr>\n",
       "      <th>4</th>\n",
       "      <td>2018-09-20 16:30:06</td>\n",
       "      <td>18152</td>\n",
       "      <td>Renzo osorio</td>\n",
       "      <td>On Call</td>\n",
       "      <td>10:30:00</td>\n",
       "      <td>10:35:00</td>\n",
       "      <td>0:05:00</td>\n",
       "      <td>Memorial Hermann Healthcare Syst.</td>\n",
       "      <td>_</td>\n",
       "      <td>_</td>\n",
       "      <td>0:00:00.083333</td>\n",
       "    </tr>\n",
       "  </tbody>\n",
       "</table>\n",
       "</div>"
      ],
      "text/plain": [
       "                 Fecha ID Interprete        Agente     Status     Start  \\\n",
       "0  2018-09-20 16:00:06         18152  Renzo osorio  Available  07:57:00   \n",
       "1  2018-09-20 16:30:06         18152  Renzo osorio    On Call  08:46:00   \n",
       "2  2018-09-20 16:30:06         18152  Renzo osorio    On Call  09:36:00   \n",
       "3  2018-09-20 16:30:06         18152  Renzo osorio    On Call  10:07:00   \n",
       "4  2018-09-20 16:30:06         18152  Renzo osorio    On Call  10:30:00   \n",
       "\n",
       "     Finish     Time                             Client           Reason  \\\n",
       "0  08:46:00  0:49:00                             MedPod  regular checkup   \n",
       "1  09:00:00  0:14:00                             MedPod  regular checkup   \n",
       "2  10:07:00  0:31:00                      Texana Center  regular checkup   \n",
       "3  10:21:00  0:14:00               Baylor Scott & White                _   \n",
       "4  10:35:00  0:05:00  Memorial Hermann Healthcare Syst.                _   \n",
       "\n",
       "  Time Inter              Ti  \n",
       "0          _  0:00:00.816666  \n",
       "1          _  0:00:00.233333  \n",
       "2          _  0:00:00.516666  \n",
       "3          _  0:00:00.233333  \n",
       "4          _  0:00:00.083333  "
      ]
     },
     "execution_count": 109,
     "metadata": {},
     "output_type": "execute_result"
    }
   ],
   "source": [
    "df.head(5)\n"
   ]
  },
  {
   "cell_type": "code",
   "execution_count": 143,
   "metadata": {},
   "outputs": [
    {
     "ename": "AttributeError",
     "evalue": "'DataFrame' object has no attribute 'sort'",
     "output_type": "error",
     "traceback": [
      "\u001b[0;31m---------------------------------------------------------------------------\u001b[0m",
      "\u001b[0;31mAttributeError\u001b[0m                            Traceback (most recent call last)",
      "\u001b[0;32m<ipython-input-143-26c453cfcfb7>\u001b[0m in \u001b[0;36m<module>\u001b[0;34m()\u001b[0m\n\u001b[0;32m----> 1\u001b[0;31m \u001b[0mdf\u001b[0m\u001b[0;34m.\u001b[0m\u001b[0msort\u001b[0m\u001b[0;34m(\u001b[0m\u001b[0;34m[\u001b[0m\u001b[0;34m'Status'\u001b[0m\u001b[0;34m,\u001b[0m \u001b[0;34m'Agente'\u001b[0m\u001b[0;34m]\u001b[0m\u001b[0;34m,\u001b[0m \u001b[0mascending\u001b[0m\u001b[0;34m=\u001b[0m\u001b[0;34m[\u001b[0m\u001b[0;36m1\u001b[0m\u001b[0;34m,\u001b[0m \u001b[0;36m0\u001b[0m\u001b[0;34m]\u001b[0m\u001b[0;34m)\u001b[0m\u001b[0;34m\u001b[0m\u001b[0m\n\u001b[0m",
      "\u001b[0;32m/Library/Frameworks/Python.framework/Versions/3.6/lib/python3.6/site-packages/pandas/core/generic.py\u001b[0m in \u001b[0;36m__getattr__\u001b[0;34m(self, name)\u001b[0m\n\u001b[1;32m   4370\u001b[0m             \u001b[0;32mif\u001b[0m \u001b[0mself\u001b[0m\u001b[0;34m.\u001b[0m\u001b[0m_info_axis\u001b[0m\u001b[0;34m.\u001b[0m\u001b[0m_can_hold_identifiers_and_holds_name\u001b[0m\u001b[0;34m(\u001b[0m\u001b[0mname\u001b[0m\u001b[0;34m)\u001b[0m\u001b[0;34m:\u001b[0m\u001b[0;34m\u001b[0m\u001b[0m\n\u001b[1;32m   4371\u001b[0m                 \u001b[0;32mreturn\u001b[0m \u001b[0mself\u001b[0m\u001b[0;34m[\u001b[0m\u001b[0mname\u001b[0m\u001b[0;34m]\u001b[0m\u001b[0;34m\u001b[0m\u001b[0m\n\u001b[0;32m-> 4372\u001b[0;31m             \u001b[0;32mreturn\u001b[0m \u001b[0mobject\u001b[0m\u001b[0;34m.\u001b[0m\u001b[0m__getattribute__\u001b[0m\u001b[0;34m(\u001b[0m\u001b[0mself\u001b[0m\u001b[0;34m,\u001b[0m \u001b[0mname\u001b[0m\u001b[0;34m)\u001b[0m\u001b[0;34m\u001b[0m\u001b[0m\n\u001b[0m\u001b[1;32m   4373\u001b[0m \u001b[0;34m\u001b[0m\u001b[0m\n\u001b[1;32m   4374\u001b[0m     \u001b[0;32mdef\u001b[0m \u001b[0m__setattr__\u001b[0m\u001b[0;34m(\u001b[0m\u001b[0mself\u001b[0m\u001b[0;34m,\u001b[0m \u001b[0mname\u001b[0m\u001b[0;34m,\u001b[0m \u001b[0mvalue\u001b[0m\u001b[0;34m)\u001b[0m\u001b[0;34m:\u001b[0m\u001b[0;34m\u001b[0m\u001b[0m\n",
      "\u001b[0;31mAttributeError\u001b[0m: 'DataFrame' object has no attribute 'sort'"
     ]
    }
   ],
   "source": [
    "df.sort(['Status', 'Agente'], ascending=[1, 0])"
   ]
  },
  {
   "cell_type": "code",
   "execution_count": 140,
   "metadata": {},
   "outputs": [
    {
     "ename": "TypeError",
     "evalue": "'bool' object is not callable",
     "output_type": "error",
     "traceback": [
      "\u001b[0;31m---------------------------------------------------------------------------\u001b[0m",
      "\u001b[0;31mTypeError\u001b[0m                                 Traceback (most recent call last)",
      "\u001b[0;32m<ipython-input-140-0c74de0c61f6>\u001b[0m in \u001b[0;36m<module>\u001b[0;34m()\u001b[0m\n\u001b[1;32m      3\u001b[0m \u001b[0;31m#df['Cliento'] = df.apply(is_old_func, axis='columns')\u001b[0m\u001b[0;34m\u001b[0m\u001b[0;34m\u001b[0m\u001b[0m\n\u001b[1;32m      4\u001b[0m \u001b[0;34m\u001b[0m\u001b[0m\n\u001b[0;32m----> 5\u001b[0;31m \u001b[0mdf\u001b[0m\u001b[0;34m[\u001b[0m\u001b[0;34m'Agente'\u001b[0m\u001b[0;34m]\u001b[0m\u001b[0;34m.\u001b[0m\u001b[0mgroupby\u001b[0m\u001b[0;34m(\u001b[0m\u001b[0;34m[\u001b[0m\u001b[0mdf\u001b[0m\u001b[0;34m[\u001b[0m\u001b[0;34m'Client'\u001b[0m\u001b[0;34m]\u001b[0m\u001b[0;34m,\u001b[0m\u001b[0mdf\u001b[0m\u001b[0;34m[\u001b[0m\u001b[0;34m'Status'\u001b[0m\u001b[0;34m]\u001b[0m\u001b[0;34m]\u001b[0m\u001b[0;34m)\u001b[0m\u001b[0;34m.\u001b[0m\u001b[0msort\u001b[0m\u001b[0;34m(\u001b[0m\u001b[0;34m[\u001b[0m\u001b[0;34m'Status'\u001b[0m\u001b[0;34m]\u001b[0m\u001b[0;34m)\u001b[0m\u001b[0;34m\u001b[0m\u001b[0m\n\u001b[0m",
      "\u001b[0;31mTypeError\u001b[0m: 'bool' object is not callable"
     ]
    }
   ],
   "source": [
    "def is_old_func(row):\n",
    "    return 3\n",
    "#df['Cliento'] = df.apply(is_old_func, axis='columns')\n",
    "\n",
    "df['Agente'].groupby([df['Client'],df['Status']]).sort(['Status'])"
   ]
  },
  {
   "cell_type": "code",
   "execution_count": 77,
   "metadata": {},
   "outputs": [
    {
     "data": {
      "text/html": [
       "<div>\n",
       "<style scoped>\n",
       "    .dataframe tbody tr th:only-of-type {\n",
       "        vertical-align: middle;\n",
       "    }\n",
       "\n",
       "    .dataframe tbody tr th {\n",
       "        vertical-align: top;\n",
       "    }\n",
       "\n",
       "    .dataframe thead th {\n",
       "        text-align: right;\n",
       "    }\n",
       "</style>\n",
       "<table border=\"1\" class=\"dataframe\">\n",
       "  <thead>\n",
       "    <tr style=\"text-align: right;\">\n",
       "      <th></th>\n",
       "      <th>Fecha</th>\n",
       "      <th>ID Interprete</th>\n",
       "      <th>Agente</th>\n",
       "      <th>Status</th>\n",
       "      <th>Start</th>\n",
       "      <th>Finish</th>\n",
       "      <th>Time</th>\n",
       "      <th>Client</th>\n",
       "      <th>Reason</th>\n",
       "      <th>Time Inter</th>\n",
       "      <th>Ti</th>\n",
       "    </tr>\n",
       "  </thead>\n",
       "  <tbody>\n",
       "    <tr>\n",
       "      <th>0</th>\n",
       "      <td>2018-09-20 16:00:06</td>\n",
       "      <td>18152</td>\n",
       "      <td>Renzo osorio</td>\n",
       "      <td>Available</td>\n",
       "      <td>07:57:00</td>\n",
       "      <td>08:46:00</td>\n",
       "      <td>0:49:00</td>\n",
       "      <td>3</td>\n",
       "      <td>regular checkup</td>\n",
       "      <td>_</td>\n",
       "      <td>0:00:00.816666</td>\n",
       "    </tr>\n",
       "    <tr>\n",
       "      <th>1</th>\n",
       "      <td>2018-09-20 16:30:06</td>\n",
       "      <td>18152</td>\n",
       "      <td>Renzo osorio</td>\n",
       "      <td>On Call</td>\n",
       "      <td>08:46:00</td>\n",
       "      <td>09:00:00</td>\n",
       "      <td>0:14:00</td>\n",
       "      <td>3</td>\n",
       "      <td>regular checkup</td>\n",
       "      <td>_</td>\n",
       "      <td>0:00:00.233333</td>\n",
       "    </tr>\n",
       "    <tr>\n",
       "      <th>2</th>\n",
       "      <td>2018-09-20 16:30:06</td>\n",
       "      <td>18152</td>\n",
       "      <td>Renzo osorio</td>\n",
       "      <td>On Call</td>\n",
       "      <td>09:36:00</td>\n",
       "      <td>10:07:00</td>\n",
       "      <td>0:31:00</td>\n",
       "      <td>3</td>\n",
       "      <td>regular checkup</td>\n",
       "      <td>_</td>\n",
       "      <td>0:00:00.516666</td>\n",
       "    </tr>\n",
       "    <tr>\n",
       "      <th>3</th>\n",
       "      <td>2018-09-20 16:30:06</td>\n",
       "      <td>18152</td>\n",
       "      <td>Renzo osorio</td>\n",
       "      <td>On Call</td>\n",
       "      <td>10:07:00</td>\n",
       "      <td>10:21:00</td>\n",
       "      <td>0:14:00</td>\n",
       "      <td>3</td>\n",
       "      <td>_</td>\n",
       "      <td>_</td>\n",
       "      <td>0:00:00.233333</td>\n",
       "    </tr>\n",
       "    <tr>\n",
       "      <th>4</th>\n",
       "      <td>2018-09-20 16:30:06</td>\n",
       "      <td>18152</td>\n",
       "      <td>Renzo osorio</td>\n",
       "      <td>On Call</td>\n",
       "      <td>10:30:00</td>\n",
       "      <td>10:35:00</td>\n",
       "      <td>0:05:00</td>\n",
       "      <td>3</td>\n",
       "      <td>_</td>\n",
       "      <td>_</td>\n",
       "      <td>0:00:00.083333</td>\n",
       "    </tr>\n",
       "  </tbody>\n",
       "</table>\n",
       "</div>"
      ],
      "text/plain": [
       "                 Fecha ID Interprete        Agente     Status     Start  \\\n",
       "0  2018-09-20 16:00:06         18152  Renzo osorio  Available  07:57:00   \n",
       "1  2018-09-20 16:30:06         18152  Renzo osorio    On Call  08:46:00   \n",
       "2  2018-09-20 16:30:06         18152  Renzo osorio    On Call  09:36:00   \n",
       "3  2018-09-20 16:30:06         18152  Renzo osorio    On Call  10:07:00   \n",
       "4  2018-09-20 16:30:06         18152  Renzo osorio    On Call  10:30:00   \n",
       "\n",
       "     Finish     Time  Client           Reason Time Inter              Ti  \n",
       "0  08:46:00  0:49:00       3  regular checkup          _  0:00:00.816666  \n",
       "1  09:00:00  0:14:00       3  regular checkup          _  0:00:00.233333  \n",
       "2  10:07:00  0:31:00       3  regular checkup          _  0:00:00.516666  \n",
       "3  10:21:00  0:14:00       3                _          _  0:00:00.233333  \n",
       "4  10:35:00  0:05:00       3                _          _  0:00:00.083333  "
      ]
     },
     "execution_count": 77,
     "metadata": {},
     "output_type": "execute_result"
    }
   ],
   "source": [
    "df.head()"
   ]
  },
  {
   "cell_type": "code",
   "execution_count": 59,
   "metadata": {},
   "outputs": [
    {
     "data": {
      "text/plain": [
       "<matplotlib.axes._subplots.AxesSubplot at 0x121025710>"
      ]
     },
     "execution_count": 59,
     "metadata": {},
     "output_type": "execute_result"
    },
    {
     "data": {
      "image/png": "[encoded data removed]",
      "text/plain": [
       "<Figure size 432x288 with 1 Axes>"
      ]
     },
     "metadata": {},
     "output_type": "display_data"
    }
   ],
   "source": [
    "sns.countplot(df['Agente'])"
   ]
  },
  {
   "cell_type": "code",
   "execution_count": 38,
   "metadata": {},
   "outputs": [
    {
     "ename": "TypeError",
     "evalue": "must be str, not float",
     "output_type": "error",
     "traceback": [
      "\u001b[0;31m---------------------------------------------------------------------------\u001b[0m",
      "\u001b[0;31mTypeError\u001b[0m                                 Traceback (most recent call last)",
      "\u001b[0;32m<ipython-input-38-39304c38183a>\u001b[0m in \u001b[0;36m<module>\u001b[0;34m()\u001b[0m\n\u001b[0;32m----> 1\u001b[0;31m \u001b[0msns\u001b[0m\u001b[0;34m.\u001b[0m\u001b[0mdistplot\u001b[0m\u001b[0;34m(\u001b[0m\u001b[0mdf\u001b[0m\u001b[0;34m[\u001b[0m\u001b[0;34m'Client'\u001b[0m\u001b[0;34m]\u001b[0m\u001b[0;34m,\u001b[0m \u001b[0mbins\u001b[0m\u001b[0;34m=\u001b[0m\u001b[0;36m10\u001b[0m\u001b[0;34m,\u001b[0m \u001b[0mkde\u001b[0m\u001b[0;34m=\u001b[0m\u001b[0;32mTrue\u001b[0m\u001b[0;34m)\u001b[0m\u001b[0;34m\u001b[0m\u001b[0m\n\u001b[0m",
      "\u001b[0;32m/Library/Frameworks/Python.framework/Versions/3.6/lib/python3.6/site-packages/seaborn/distributions.py\u001b[0m in \u001b[0;36mdistplot\u001b[0;34m(a, bins, hist, kde, rug, fit, hist_kws, kde_kws, rug_kws, fit_kws, color, vertical, norm_hist, axlabel, label, ax)\u001b[0m\n\u001b[1;32m    193\u001b[0m             \u001b[0mline\u001b[0m\u001b[0;34m,\u001b[0m \u001b[0;34m=\u001b[0m \u001b[0max\u001b[0m\u001b[0;34m.\u001b[0m\u001b[0mplot\u001b[0m\u001b[0;34m(\u001b[0m\u001b[0;36m0\u001b[0m\u001b[0;34m,\u001b[0m \u001b[0ma\u001b[0m\u001b[0;34m.\u001b[0m\u001b[0mmean\u001b[0m\u001b[0;34m(\u001b[0m\u001b[0;34m)\u001b[0m\u001b[0;34m)\u001b[0m\u001b[0;34m\u001b[0m\u001b[0m\n\u001b[1;32m    194\u001b[0m         \u001b[0;32melse\u001b[0m\u001b[0;34m:\u001b[0m\u001b[0;34m\u001b[0m\u001b[0m\n\u001b[0;32m--> 195\u001b[0;31m             \u001b[0mline\u001b[0m\u001b[0;34m,\u001b[0m \u001b[0;34m=\u001b[0m \u001b[0max\u001b[0m\u001b[0;34m.\u001b[0m\u001b[0mplot\u001b[0m\u001b[0;34m(\u001b[0m\u001b[0ma\u001b[0m\u001b[0;34m.\u001b[0m\u001b[0mmean\u001b[0m\u001b[0;34m(\u001b[0m\u001b[0;34m)\u001b[0m\u001b[0;34m,\u001b[0m \u001b[0;36m0\u001b[0m\u001b[0;34m)\u001b[0m\u001b[0;34m\u001b[0m\u001b[0m\n\u001b[0m\u001b[1;32m    196\u001b[0m         \u001b[0mcolor\u001b[0m \u001b[0;34m=\u001b[0m \u001b[0mline\u001b[0m\u001b[0;34m.\u001b[0m\u001b[0mget_color\u001b[0m\u001b[0;34m(\u001b[0m\u001b[0;34m)\u001b[0m\u001b[0;34m\u001b[0m\u001b[0m\n\u001b[1;32m    197\u001b[0m         \u001b[0mline\u001b[0m\u001b[0;34m.\u001b[0m\u001b[0mremove\u001b[0m\u001b[0;34m(\u001b[0m\u001b[0;34m)\u001b[0m\u001b[0;34m\u001b[0m\u001b[0m\n",
      "\u001b[0;32m/Library/Frameworks/Python.framework/Versions/3.6/lib/python3.6/site-packages/numpy/core/_methods.py\u001b[0m in \u001b[0;36m_mean\u001b[0;34m(a, axis, dtype, out, keepdims)\u001b[0m\n\u001b[1;32m     73\u001b[0m             \u001b[0mis_float16_result\u001b[0m \u001b[0;34m=\u001b[0m \u001b[0;32mTrue\u001b[0m\u001b[0;34m\u001b[0m\u001b[0m\n\u001b[1;32m     74\u001b[0m \u001b[0;34m\u001b[0m\u001b[0m\n\u001b[0;32m---> 75\u001b[0;31m     \u001b[0mret\u001b[0m \u001b[0;34m=\u001b[0m \u001b[0mumr_sum\u001b[0m\u001b[0;34m(\u001b[0m\u001b[0marr\u001b[0m\u001b[0;34m,\u001b[0m \u001b[0maxis\u001b[0m\u001b[0;34m,\u001b[0m \u001b[0mdtype\u001b[0m\u001b[0;34m,\u001b[0m \u001b[0mout\u001b[0m\u001b[0;34m,\u001b[0m \u001b[0mkeepdims\u001b[0m\u001b[0;34m)\u001b[0m\u001b[0;34m\u001b[0m\u001b[0m\n\u001b[0m\u001b[1;32m     76\u001b[0m     \u001b[0;32mif\u001b[0m \u001b[0misinstance\u001b[0m\u001b[0;34m(\u001b[0m\u001b[0mret\u001b[0m\u001b[0;34m,\u001b[0m \u001b[0mmu\u001b[0m\u001b[0;34m.\u001b[0m\u001b[0mndarray\u001b[0m\u001b[0;34m)\u001b[0m\u001b[0;34m:\u001b[0m\u001b[0;34m\u001b[0m\u001b[0m\n\u001b[1;32m     77\u001b[0m         ret = um.true_divide(\n",
      "\u001b[0;31mTypeError\u001b[0m: must be str, not float"
     ]
    },
    {
     "data": {
      "image/png": "[encoded data removed]",
      "text/plain": [
       "<Figure size 432x288 with 1 Axes>"
      ]
     },
     "metadata": {},
     "output_type": "display_data"
    }
   ],
   "source": []
  },
  {
   "cell_type": "code",
   "execution_count": null,
   "metadata": {},
   "outputs": [],
   "source": []
  }
 ],
 "metadata": {
  "kernelspec": {
   "display_name": "Python 3",
   "language": "python",
   "name": "python3"
  },
  "language_info": {
   "codemirror_mode": {
    "name": "ipython",
    "version": 3
   },
   "file_extension": ".py",
   "mimetype": "text/x-python",
   "name": "python",
   "nbconvert_exporter": "python",
   "pygments_lexer": "ipython3",
   "version": "3.6.5"
  }
 },
 "nbformat": 4,
 "nbformat_minor": 2
}
